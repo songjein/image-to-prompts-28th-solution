{
 "cells": [
  {
   "cell_type": "code",
   "execution_count": 1,
   "metadata": {},
   "outputs": [],
   "source": [
    "import sys\n",
    "import os\n",
    "sys.path.append(os.path.abspath('../input/sentence-transformers'))"
   ]
  },
  {
   "cell_type": "code",
   "execution_count": 2,
   "metadata": {},
   "outputs": [
    {
     "name": "stderr",
     "output_type": "stream",
     "text": [
      "/home/jaehoon_scatterlab_co_kr/projects/image-to-prompts/venv/lib/python3.8/site-packages/tqdm/auto.py:21: TqdmWarning: IProgress not found. Please update jupyter and ipywidgets. See https://ipywidgets.readthedocs.io/en/stable/user_install.html\n",
      "  from .autonotebook import tqdm as notebook_tqdm\n"
     ]
    }
   ],
   "source": [
    "from sentence_transformers import SentenceTransformer"
   ]
  },
  {
   "cell_type": "code",
   "execution_count": 3,
   "metadata": {},
   "outputs": [],
   "source": [
    "st_model = SentenceTransformer('../input/all-MiniLM-L6-v2')"
   ]
  },
  {
   "cell_type": "code",
   "execution_count": 10,
   "metadata": {},
   "outputs": [
    {
     "data": {
      "text/plain": [
       "(2, 384)"
      ]
     },
     "execution_count": 10,
     "metadata": {},
     "output_type": "execute_result"
    }
   ],
   "source": [
    "out = st_model.encode(['hi','ja'])\n",
    "out.shape"
   ]
  },
  {
   "cell_type": "code",
   "execution_count": 112,
   "metadata": {},
   "outputs": [],
   "source": [
    "import json\n",
    "with open('../datasets/validation/metadata.jsonl') as f:\n",
    "    data = [json.loads(d) for d in f.readlines()]\n",
    "text_data = [d['text'] for d in data]"
   ]
  },
  {
   "cell_type": "code",
   "execution_count": 87,
   "metadata": {},
   "outputs": [
    {
     "data": {
      "text/plain": [
       "(298, 7604)"
      ]
     },
     "execution_count": 87,
     "metadata": {},
     "output_type": "execute_result"
    }
   ],
   "source": [
    "pairs[0]"
   ]
  },
  {
   "cell_type": "code",
   "execution_count": 88,
   "metadata": {},
   "outputs": [
    {
     "data": {
      "text/plain": [
       "('heisenberg, hyper detailed, digital art, ue, artstation, natural lighting, studio quality, smooth render, artgerm, greg rutkowski, peter mohrbacher, hajime sorayama, boris vallejo, craig mullins, mat drawinf paper',\n",
       " 'epic westerner sangoku, hyper detailed, radiant, digital art, ue, artstation, natural lighting, studio quality, smooth render, artgerm, greg rutkowski, peter mohrbacher, hajime sorayama, boris vallejo, craig mullins, mat drawing paper')"
      ]
     },
     "execution_count": 88,
     "metadata": {},
     "output_type": "execute_result"
    }
   ],
   "source": [
    "text_data[298], text_data[7604]"
   ]
  },
  {
   "cell_type": "code",
   "execution_count": 114,
   "metadata": {},
   "outputs": [
    {
     "name": "stderr",
     "output_type": "stream",
     "text": [
      "100%|██████████| 69/69 [00:03<00:00, 22.73it/s]\n"
     ]
    }
   ],
   "source": [
    "embds = None\n",
    "BS = 128\n",
    "for i in tqdm(range(0, len(text_data), BS)):\n",
    "    batch = text_data[i:i+BS]\n",
    "    emb = torch.tensor(st_model.encode(batch))\n",
    "    if embds is None:\n",
    "        embds = emb\n",
    "    else:\n",
    "        embds = torch.vstack([embds, emb])"
   ]
  },
  {
   "cell_type": "code",
   "execution_count": 115,
   "metadata": {},
   "outputs": [
    {
     "data": {
      "text/plain": [
       "torch.Size([8798, 384])"
      ]
     },
     "execution_count": 115,
     "metadata": {},
     "output_type": "execute_result"
    }
   ],
   "source": [
    "embds.shape"
   ]
  },
  {
   "cell_type": "code",
   "execution_count": 116,
   "metadata": {},
   "outputs": [],
   "source": [
    "similarities = torch.mm(embds, embds.T)"
   ]
  },
  {
   "cell_type": "code",
   "execution_count": 117,
   "metadata": {},
   "outputs": [
    {
     "data": {
      "text/plain": [
       "torch.Size([8798, 8798])"
      ]
     },
     "execution_count": 117,
     "metadata": {},
     "output_type": "execute_result"
    }
   ],
   "source": [
    "similarities.shape"
   ]
  },
  {
   "cell_type": "code",
   "execution_count": 118,
   "metadata": {},
   "outputs": [],
   "source": [
    "idx = torch.nonzero(similarities > 0.85, as_tuple=True)"
   ]
  },
  {
   "cell_type": "code",
   "execution_count": 119,
   "metadata": {},
   "outputs": [
    {
     "data": {
      "text/plain": [
       "8832"
      ]
     },
     "execution_count": 119,
     "metadata": {},
     "output_type": "execute_result"
    }
   ],
   "source": [
    "len(idx[0])"
   ]
  },
  {
   "cell_type": "code",
   "execution_count": 121,
   "metadata": {},
   "outputs": [],
   "source": [
    "pairs = []\n",
    "for x,y in zip(idx[0].tolist(), idx[1].tolist()):\n",
    "    if x == y:\n",
    "        continue\n",
    "    pairs.append((x,y))"
   ]
  },
  {
   "cell_type": "code",
   "execution_count": 122,
   "metadata": {},
   "outputs": [
    {
     "data": {
      "text/plain": [
       "34"
      ]
     },
     "execution_count": 122,
     "metadata": {},
     "output_type": "execute_result"
    }
   ],
   "source": [
    "len(pairs)"
   ]
  },
  {
   "cell_type": "code",
   "execution_count": 123,
   "metadata": {},
   "outputs": [
    {
     "data": {
      "text/plain": [
       "('ominous forest, beautiful landscape, environment, colors, film, dramatic, cinematic, highly detailed, dark, large scale, hyperrealistic, realistic lighting, octane render, thomas kinkade, by wlop, artgerm, trending on artstation , clear, sharp',\n",
       " 'beautiful environment, dream, colors, film, dramatic, highly detailed, mid day, large scale, hyperrealistic, realistic lighting, octane render, by wlop, artgerm, trending on artstation ')"
      ]
     },
     "execution_count": 123,
     "metadata": {},
     "output_type": "execute_result"
    }
   ],
   "source": [
    "text_data[pairs[1][0]], text_data[pairs[1][1]]"
   ]
  },
  {
   "cell_type": "code",
   "execution_count": 124,
   "metadata": {},
   "outputs": [],
   "source": [
    "delete_ids = [p[1] for p in pairs]\n",
    "results = []\n",
    "for idx, d in enumerate(data):\n",
    "    if idx in delete_ids:\n",
    "        continue\n",
    "    else:\n",
    "        results.append(d)"
   ]
  },
  {
   "cell_type": "code",
   "execution_count": 125,
   "metadata": {},
   "outputs": [
    {
     "data": {
      "text/plain": [
       "(8798, 8765)"
      ]
     },
     "execution_count": 125,
     "metadata": {},
     "output_type": "execute_result"
    }
   ],
   "source": [
    "len(data), len(results)"
   ]
  },
  {
   "cell_type": "code",
   "execution_count": 126,
   "metadata": {},
   "outputs": [],
   "source": [
    "import json\n",
    "with open('metadata_validation.jsonl', 'w') as f:\n",
    "    for r in results:\n",
    "        f.write(json.dumps(r))\n",
    "        f.write('\\n')"
   ]
  },
  {
   "cell_type": "code",
   "execution_count": 4,
   "metadata": {},
   "outputs": [],
   "source": [
    "out = st_model.encode([\"a guy opening a donut shop while the employees stare at him in disgust, digital art by julie bell and joe fenton. cgsociety contest winner, computer science fiction painterly aesthetic, darksynth, wiccan-mockup inspired, made of beads&knolling patterns on instagram, gotham city/diorama\", \"Kaggle employee Phil at a donut shop ordering all the best donuts, with a speech bubble that proclai\"])"
   ]
  },
  {
   "cell_type": "code",
   "execution_count": 5,
   "metadata": {},
   "outputs": [
    {
     "name": "stderr",
     "output_type": "stream",
     "text": [
      "/tmp/ipykernel_33044/134043059.py:4: UserWarning: The use of `x.T` on tensors of dimension other than 2 to reverse their shape is deprecated and it will throw an error in a future release. Consider `x.mT` to transpose batches of matricesor `x.permute(*torch.arange(x.ndim - 1, -1, -1))` to reverse the dimensions of a tensor. (Triggered internally at  ../aten/src/ATen/native/TensorShape.cpp:2981.)\n",
      "  sim = torch.matmul(a,b.T)\n"
     ]
    }
   ],
   "source": [
    "import torch\n",
    "a = torch.tensor(out[0])\n",
    "b = torch.tensor(out[1])\n",
    "sim = torch.matmul(a,b.T)"
   ]
  },
  {
   "cell_type": "code",
   "execution_count": 6,
   "metadata": {},
   "outputs": [
    {
     "data": {
      "text/plain": [
       "tensor(0.4744)"
      ]
     },
     "execution_count": 6,
     "metadata": {},
     "output_type": "execute_result"
    }
   ],
   "source": [
    "sim"
   ]
  },
  {
   "cell_type": "code",
   "execution_count": null,
   "metadata": {},
   "outputs": [],
   "source": []
  }
 ],
 "metadata": {
  "kernelspec": {
   "display_name": "venv",
   "language": "python",
   "name": "python3"
  },
  "language_info": {
   "codemirror_mode": {
    "name": "ipython",
    "version": 3
   },
   "file_extension": ".py",
   "mimetype": "text/x-python",
   "name": "python",
   "nbconvert_exporter": "python",
   "pygments_lexer": "ipython3",
   "version": "3.8.0"
  },
  "orig_nbformat": 4
 },
 "nbformat": 4,
 "nbformat_minor": 2
}
